{
 "cells": [
  {
   "cell_type": "code",
   "execution_count": 10,
   "metadata": {
    "collapsed": true
   },
   "outputs": [],
   "source": [
    "import re\n",
    "from elasticsearch import Elasticsearch\n",
    "from datetime import datetime"
   ]
  },
  {
   "cell_type": "code",
   "execution_count": 11,
   "metadata": {
    "collapsed": true
   },
   "outputs": [],
   "source": [
    "ELASTIC_USER = \"elastic\"\n",
    "ELASTIC_PWD = \"changeme\"\n",
    "ELASTIC_INDEX = \"ap_dataset\"\n",
    "ELASTIC_TYPE = \"document\"\n",
    "\n",
    "from elasticsearch import Elasticsearch, RequestsHttpConnection\n",
    "es = Elasticsearch(connection_class=RequestsHttpConnection,\n",
    "                  http_auth=(ELASTIC_USER, ELASTIC_PWD))"
   ]
  },
  {
   "cell_type": "code",
   "execution_count": 12,
   "metadata": {
    "collapsed": true
   },
   "outputs": [],
   "source": [
    "def get_avg_dlen(es):\n",
    "    query_aggs = \"\"\"\n",
    "    {\n",
    "      \"query\": {\n",
    "        \"match_all\": {}\n",
    "      },\n",
    "      \"aggs\": {\n",
    "        \"doc_lengths\": {\n",
    "          \"stats\": {\n",
    "            \"script\": {\n",
    "              \"lang\": \"groovy\",\n",
    "              \"inline\": \"_doc['doc_length']\"\n",
    "            }\n",
    "          }\n",
    "        }\n",
    "      }\n",
    "    }\n",
    "    \"\"\"\n",
    "    return es.search(index=ELASTIC_INDEX, doc_type=ELASTIC_TYPE, body=query_aggs)[\"aggregations\"]['doc_lengths']['avg']"
   ]
  },
  {
   "cell_type": "code",
   "execution_count": 13,
   "metadata": {
    "collapsed": true
   },
   "outputs": [],
   "source": [
    "class Term:\n",
    "    def __init__(self, term, tf, df):\n",
    "        self.term = term\n",
    "        self.tf = tf\n",
    "        self.df = df\n",
    "\n",
    "class Document:\n",
    "    def __init__(self, id, dlen):\n",
    "        self.id = id\n",
    "        self.dlen = dlen\n",
    "        self.terms = []\n",
    "        self.queries = {}\n",
    "    \n",
    "    def add_words(self, doc_words):\n",
    "        word_lst = []\n",
    "        for word in doc_words:\n",
    "            word_lst.append(Term(word['term'], word['tf'], word['df']))\n",
    "        self.terms = word_lst\n",
    "        self.words = Set(map(lambda w: w.term, self.terms))\n",
    "        \n",
    "    def filter_terms_query(self, q_id, query):\n",
    "        self.queries[q_id] = self.words.intersection(Set(query))\n",
    "        \n",
    "class Query:\n",
    "    def __init__(self, doc_id, score):\n",
    "        self.doc_id = doc_id\n",
    "        self.score = score"
   ]
  },
  {
   "cell_type": "code",
   "execution_count": 14,
   "metadata": {
    "collapsed": true
   },
   "outputs": [],
   "source": [
    "class Scoring:\n",
    "    def __init__(self, list_docs):\n",
    "        self.docs = list_docs\n",
    "        \n",
    "    def logTF(self, tf):\n",
    "        return Math.log(tf)\n",
    "\n",
    "    def okapiTF(self, tf, dlen, avgdlen):\n",
    "        return tf / (tf + 0.5 + 1.5 * (dlen/avgdlen))\n",
    "\n",
    "    def tf_doc_query(self, doc, query, num_docs, tfidf=False):\n",
    "        sumtf = 0.0\n",
    "        #tokenize query\n",
    "        for word in query:\n",
    "            tf = getTF(doc, word)\n",
    "            temp = okapiTF(tf, dlen, avgdlen)\n",
    "            if tfidf:\n",
    "                #TODO: Get df of words\n",
    "                temp * log(num_docs/df)\n",
    "            sumtf += temp\n",
    "        return sumtf\n",
    "\n",
    "    def tfidf(self, doc, query):\n",
    "        return tf_doc_query(doc, query, True)\n",
    "\n",
    "    def bm25(self, doc, query, k1, k2, b):\n",
    "        sumtf =0.0\n",
    "        for word in query:\n",
    "            sumtf += log(num_docs+0.5/df+0.5) * (tf + k1*tf)/(tf+k1((1-b) + b * dlen/avgdlen)) * (tfq + k2*tfq)/(tfq + k2)\n",
    "\n",
    "    def ulm_laplace(self):\n",
    "        sumScore = 0.0\n",
    "        for word in query:\n",
    "            sumScore += Math.log((tf +1)/(dlen+vocab_size))\n",
    "        return sumScore\n",
    "\n",
    "    def ulm_mercer(self):\n",
    "        pass"
   ]
  },
  {
   "cell_type": "code",
   "execution_count": 15,
   "metadata": {},
   "outputs": [
    {
     "data": {
      "text/plain": [
       "282.38710172654055"
      ]
     },
     "execution_count": 15,
     "metadata": {},
     "output_type": "execute_result"
    }
   ],
   "source": [
    "#### def getTF():\n",
    "avgdlen = get_avg_dlen(es)\n",
    "avgdlen"
   ]
  },
  {
   "cell_type": "code",
   "execution_count": 16,
   "metadata": {
    "collapsed": true
   },
   "outputs": [],
   "source": [
    "def get_tf(doc, term, withdf=False):\n",
    "    tv_doc = es.termvectors(index=ELASTIC_INDEX, doc_type=ELASTIC_TYPE, id=doc, positions=False, payloads=False, offsets=False, term_statistics=True)['term_vectors']['text']['terms'][term]\n",
    "    if withdf:\n",
    "        return {\"tf\": tv_doc['term_freq'], \"df\":tv_doc['doc_freq']}\n",
    "    else:\n",
    "        return tv_doc['term_freq']"
   ]
  },
  {
   "cell_type": "code",
   "execution_count": 17,
   "metadata": {},
   "outputs": [
    {
     "data": {
      "text/plain": [
       "{'df': 3596, 'tf': 28}"
      ]
     },
     "execution_count": 17,
     "metadata": {},
     "output_type": "execute_result"
    }
   ],
   "source": [
    "get_tf(\"AP890703-0285\", \"weather\", True)"
   ]
  },
  {
   "cell_type": "code",
   "execution_count": 18,
   "metadata": {},
   "outputs": [
    {
     "data": {
      "text/plain": [
       "84678"
      ]
     },
     "execution_count": 18,
     "metadata": {},
     "output_type": "execute_result"
    }
   ],
   "source": [
    "num_docs = es.termvectors(index=ELASTIC_INDEX, doc_type=ELASTIC_TYPE, id=\"AP890703-0285\")['term_vectors']['text']['field_statistics']['doc_count']\n",
    "num_docs\n",
    "# TODO: Use the num_docs to page records and load it into the Document class\n",
    "# TODO: Use the multi termvector API\n",
    "# TODO: Get the vocab size\n"
   ]
  },
  {
   "cell_type": "code",
   "execution_count": 19,
   "metadata": {},
   "outputs": [
    {
     "data": {
      "text/plain": [
       "31555"
      ]
     },
     "execution_count": 19,
     "metadata": {},
     "output_type": "execute_result"
    }
   ],
   "source": [
    "def get_df_temp(es, term):\n",
    "    df_search_qry = {\n",
    "      \"script_fields\": {\n",
    "        \"df\": {\n",
    "          \"script\": {\n",
    "          \"lang\": \"groovy\",\n",
    "          \"inline\": \"_index['text']['01'].df()\"\n",
    "                }\n",
    "            }\n",
    "          }\n",
    "    }\n",
    "    return es.search(index=ELASTIC_INDEX, doc_type=ELASTIC_TYPE,body=df_search_qry)\n",
    "\n",
    "def get_df(es, term):\n",
    "    return es.count(index=ELASTIC_INDEX, doc_type=ELASTIC_TYPE, body={\"query\": {\"match\": {\"text\": term}}})['count']\n",
    "    \n",
    "get_df(es, \"offici\")"
   ]
  },
  {
   "cell_type": "code",
   "execution_count": 30,
   "metadata": {
    "collapsed": true
   },
   "outputs": [],
   "source": [
    "DELETE_LIST = [\"document\",\"discuss\", \"report\", \"type\", \"identifi\", \"predict\", \"cite\", \"describ\", \"determin\", \"sole\", \"basic\", \"side\", \"produc\", \"instanc\", \n",
    "               \"base\", \"second\", \"take\", \"anticipate\", \"make\"]\n",
    "#TODO: Remove tokens with high TF\n",
    "def get_tokens(es, query):\n",
    "    data = es.indices.analyze(index=ELASTIC_INDEX, analyzer=\"my_english\", body={\"text\": query})[\"tokens\"]\n",
    "    return list(filter(lambda x: x not in DELETE_LIST, map(lambda x: x[\"token\"], data)))"
   ]
  },
  {
   "cell_type": "code",
   "execution_count": 34,
   "metadata": {},
   "outputs": [
    {
     "data": {
      "text/plain": [
       "['support', 'nation', 'rifl', 'associ', 'nra', 'asset']"
      ]
     },
     "execution_count": 34,
     "metadata": {},
     "output_type": "execute_result"
    }
   ],
   "source": [
    "get_tokens(es, \"\"\"Document must describe or identify supporters of the National Rifle Association (NRA), or its assets.\"\"\")"
   ]
  },
  {
   "cell_type": "code",
   "execution_count": 39,
   "metadata": {},
   "outputs": [
    {
     "name": "stderr",
     "output_type": "stream",
     "text": [
      "GET http://localhost:9200/ap_dataset/document/_search?_source=_id%2Cdoc_length&size=29253 [status:500 request:0.035s]\n"
     ]
    },
    {
     "ename": "TransportError",
     "evalue": "TransportError(500, 'search_phase_execution_exception', 'Result window is too large, from + size must be less than or equal to: [10000] but was [29253]. See the scroll api for a more efficient way to request large data sets. This limit can be set by changing the [index.max_result_window] index level setting.')",
     "output_type": "error",
     "traceback": [
      "\u001b[0;31m---------------------------------------------------------------------------\u001b[0m",
      "\u001b[0;31mTransportError\u001b[0m                            Traceback (most recent call last)",
      "\u001b[0;32m<ipython-input-39-748394386e67>\u001b[0m in \u001b[0;36m<module>\u001b[0;34m()\u001b[0m\n\u001b[1;32m     10\u001b[0m     \u001b[0;32mreturn\u001b[0m \u001b[0;34m(\u001b[0m\u001b[0mlist\u001b[0m\u001b[0;34m(\u001b[0m\u001b[0mmap\u001b[0m\u001b[0;34m(\u001b[0m\u001b[0;32mlambda\u001b[0m \u001b[0mx\u001b[0m\u001b[0;34m:\u001b[0m \u001b[0;34m{\u001b[0m\u001b[0;34m\"id\"\u001b[0m\u001b[0;34m:\u001b[0m \u001b[0mx\u001b[0m\u001b[0;34m[\u001b[0m\u001b[0;34m'_id'\u001b[0m\u001b[0;34m]\u001b[0m\u001b[0;34m,\u001b[0m \u001b[0;34m\"dlen\"\u001b[0m\u001b[0;34m:\u001b[0m \u001b[0mx\u001b[0m\u001b[0;34m[\u001b[0m\u001b[0;34m'_source'\u001b[0m\u001b[0;34m]\u001b[0m\u001b[0;34m[\u001b[0m\u001b[0;34m'doc_length'\u001b[0m\u001b[0;34m]\u001b[0m\u001b[0;34m}\u001b[0m\u001b[0;34m,\u001b[0m \u001b[0mres\u001b[0m\u001b[0;34m[\u001b[0m\u001b[0;34m'hits'\u001b[0m\u001b[0;34m]\u001b[0m\u001b[0;34m[\u001b[0m\u001b[0;34m'hits'\u001b[0m\u001b[0;34m]\u001b[0m\u001b[0;34m)\u001b[0m\u001b[0;34m)\u001b[0m\u001b[0;34m)\u001b[0m\u001b[0;34m\u001b[0m\u001b[0m\n\u001b[1;32m     11\u001b[0m \u001b[0;34m\u001b[0m\u001b[0m\n\u001b[0;32m---> 12\u001b[0;31m \u001b[0mlen\u001b[0m\u001b[0;34m(\u001b[0m\u001b[0msearch_term\u001b[0m\u001b[0;34m(\u001b[0m\u001b[0mes\u001b[0m\u001b[0;34m,\u001b[0m \u001b[0;34m\"government\"\u001b[0m\u001b[0;34m)\u001b[0m\u001b[0;34m)\u001b[0m\u001b[0;34m\u001b[0m\u001b[0m\n\u001b[0m",
      "\u001b[0;32m<ipython-input-39-748394386e67>\u001b[0m in \u001b[0;36msearch_term\u001b[0;34m(es, term)\u001b[0m\n\u001b[1;32m      7\u001b[0m       }\n\u001b[1;32m      8\u001b[0m     }\n\u001b[0;32m----> 9\u001b[0;31m     \u001b[0mres\u001b[0m \u001b[0;34m=\u001b[0m \u001b[0mes\u001b[0m\u001b[0;34m.\u001b[0m\u001b[0msearch\u001b[0m\u001b[0;34m(\u001b[0m\u001b[0mindex\u001b[0m\u001b[0;34m=\u001b[0m\u001b[0mELASTIC_INDEX\u001b[0m\u001b[0;34m,\u001b[0m \u001b[0mdoc_type\u001b[0m\u001b[0;34m=\u001b[0m\u001b[0mELASTIC_TYPE\u001b[0m\u001b[0;34m,\u001b[0m \u001b[0m_source\u001b[0m\u001b[0;34m=\u001b[0m\u001b[0;34m[\u001b[0m\u001b[0;34m\"_id\"\u001b[0m\u001b[0;34m,\u001b[0m \u001b[0;34m\"doc_length\"\u001b[0m\u001b[0;34m]\u001b[0m\u001b[0;34m,\u001b[0m \u001b[0msize\u001b[0m\u001b[0;34m=\u001b[0m\u001b[0mget_df\u001b[0m\u001b[0;34m(\u001b[0m\u001b[0mes\u001b[0m\u001b[0;34m,\u001b[0m \u001b[0mterm\u001b[0m\u001b[0;34m)\u001b[0m\u001b[0;34m,\u001b[0m \u001b[0mbody\u001b[0m\u001b[0;34m=\u001b[0m\u001b[0msearch_qry\u001b[0m\u001b[0;34m)\u001b[0m\u001b[0;34m\u001b[0m\u001b[0m\n\u001b[0m\u001b[1;32m     10\u001b[0m     \u001b[0;32mreturn\u001b[0m \u001b[0;34m(\u001b[0m\u001b[0mlist\u001b[0m\u001b[0;34m(\u001b[0m\u001b[0mmap\u001b[0m\u001b[0;34m(\u001b[0m\u001b[0;32mlambda\u001b[0m \u001b[0mx\u001b[0m\u001b[0;34m:\u001b[0m \u001b[0;34m{\u001b[0m\u001b[0;34m\"id\"\u001b[0m\u001b[0;34m:\u001b[0m \u001b[0mx\u001b[0m\u001b[0;34m[\u001b[0m\u001b[0;34m'_id'\u001b[0m\u001b[0;34m]\u001b[0m\u001b[0;34m,\u001b[0m \u001b[0;34m\"dlen\"\u001b[0m\u001b[0;34m:\u001b[0m \u001b[0mx\u001b[0m\u001b[0;34m[\u001b[0m\u001b[0;34m'_source'\u001b[0m\u001b[0;34m]\u001b[0m\u001b[0;34m[\u001b[0m\u001b[0;34m'doc_length'\u001b[0m\u001b[0;34m]\u001b[0m\u001b[0;34m}\u001b[0m\u001b[0;34m,\u001b[0m \u001b[0mres\u001b[0m\u001b[0;34m[\u001b[0m\u001b[0;34m'hits'\u001b[0m\u001b[0;34m]\u001b[0m\u001b[0;34m[\u001b[0m\u001b[0;34m'hits'\u001b[0m\u001b[0;34m]\u001b[0m\u001b[0;34m)\u001b[0m\u001b[0;34m)\u001b[0m\u001b[0;34m)\u001b[0m\u001b[0;34m\u001b[0m\u001b[0m\n\u001b[1;32m     11\u001b[0m \u001b[0;34m\u001b[0m\u001b[0m\n",
      "\u001b[0;32m/Users/rmathew/anaconda/lib/python3.5/site-packages/elasticsearch/client/utils.py\u001b[0m in \u001b[0;36m_wrapped\u001b[0;34m(*args, **kwargs)\u001b[0m\n\u001b[1;32m     71\u001b[0m                 \u001b[0;32mif\u001b[0m \u001b[0mp\u001b[0m \u001b[0;32min\u001b[0m \u001b[0mkwargs\u001b[0m\u001b[0;34m:\u001b[0m\u001b[0;34m\u001b[0m\u001b[0m\n\u001b[1;32m     72\u001b[0m                     \u001b[0mparams\u001b[0m\u001b[0;34m[\u001b[0m\u001b[0mp\u001b[0m\u001b[0;34m]\u001b[0m \u001b[0;34m=\u001b[0m \u001b[0mkwargs\u001b[0m\u001b[0;34m.\u001b[0m\u001b[0mpop\u001b[0m\u001b[0;34m(\u001b[0m\u001b[0mp\u001b[0m\u001b[0;34m)\u001b[0m\u001b[0;34m\u001b[0m\u001b[0m\n\u001b[0;32m---> 73\u001b[0;31m             \u001b[0;32mreturn\u001b[0m \u001b[0mfunc\u001b[0m\u001b[0;34m(\u001b[0m\u001b[0;34m*\u001b[0m\u001b[0margs\u001b[0m\u001b[0;34m,\u001b[0m \u001b[0mparams\u001b[0m\u001b[0;34m=\u001b[0m\u001b[0mparams\u001b[0m\u001b[0;34m,\u001b[0m \u001b[0;34m**\u001b[0m\u001b[0mkwargs\u001b[0m\u001b[0;34m)\u001b[0m\u001b[0;34m\u001b[0m\u001b[0m\n\u001b[0m\u001b[1;32m     74\u001b[0m         \u001b[0;32mreturn\u001b[0m \u001b[0m_wrapped\u001b[0m\u001b[0;34m\u001b[0m\u001b[0m\n\u001b[1;32m     75\u001b[0m     \u001b[0;32mreturn\u001b[0m \u001b[0m_wrapper\u001b[0m\u001b[0;34m\u001b[0m\u001b[0m\n",
      "\u001b[0;32m/Users/rmathew/anaconda/lib/python3.5/site-packages/elasticsearch/client/__init__.py\u001b[0m in \u001b[0;36msearch\u001b[0;34m(self, index, doc_type, body, params)\u001b[0m\n\u001b[1;32m    623\u001b[0m             \u001b[0mindex\u001b[0m \u001b[0;34m=\u001b[0m \u001b[0;34m'_all'\u001b[0m\u001b[0;34m\u001b[0m\u001b[0m\n\u001b[1;32m    624\u001b[0m         return self.transport.perform_request('GET', _make_path(index,\n\u001b[0;32m--> 625\u001b[0;31m             doc_type, '_search'), params=params, body=body)\n\u001b[0m\u001b[1;32m    626\u001b[0m \u001b[0;34m\u001b[0m\u001b[0m\n\u001b[1;32m    627\u001b[0m     @query_params('_source', '_source_exclude', '_source_include',\n",
      "\u001b[0;32m/Users/rmathew/anaconda/lib/python3.5/site-packages/elasticsearch/transport.py\u001b[0m in \u001b[0;36mperform_request\u001b[0;34m(self, method, url, params, body)\u001b[0m\n\u001b[1;32m    316\u001b[0m \u001b[0;34m\u001b[0m\u001b[0m\n\u001b[1;32m    317\u001b[0m             \u001b[0;32mtry\u001b[0m\u001b[0;34m:\u001b[0m\u001b[0;34m\u001b[0m\u001b[0m\n\u001b[0;32m--> 318\u001b[0;31m                 \u001b[0mstatus\u001b[0m\u001b[0;34m,\u001b[0m \u001b[0mheaders\u001b[0m\u001b[0;34m,\u001b[0m \u001b[0mdata\u001b[0m \u001b[0;34m=\u001b[0m \u001b[0mconnection\u001b[0m\u001b[0;34m.\u001b[0m\u001b[0mperform_request\u001b[0m\u001b[0;34m(\u001b[0m\u001b[0mmethod\u001b[0m\u001b[0;34m,\u001b[0m \u001b[0murl\u001b[0m\u001b[0;34m,\u001b[0m \u001b[0mparams\u001b[0m\u001b[0;34m,\u001b[0m \u001b[0mbody\u001b[0m\u001b[0;34m,\u001b[0m \u001b[0mignore\u001b[0m\u001b[0;34m=\u001b[0m\u001b[0mignore\u001b[0m\u001b[0;34m,\u001b[0m \u001b[0mtimeout\u001b[0m\u001b[0;34m=\u001b[0m\u001b[0mtimeout\u001b[0m\u001b[0;34m)\u001b[0m\u001b[0;34m\u001b[0m\u001b[0m\n\u001b[0m\u001b[1;32m    319\u001b[0m \u001b[0;34m\u001b[0m\u001b[0m\n\u001b[1;32m    320\u001b[0m             \u001b[0;32mexcept\u001b[0m \u001b[0mTransportError\u001b[0m \u001b[0;32mas\u001b[0m \u001b[0me\u001b[0m\u001b[0;34m:\u001b[0m\u001b[0;34m\u001b[0m\u001b[0m\n",
      "\u001b[0;32m/Users/rmathew/anaconda/lib/python3.5/site-packages/elasticsearch/connection/http_requests.py\u001b[0m in \u001b[0;36mperform_request\u001b[0;34m(self, method, url, params, body, timeout, ignore)\u001b[0m\n\u001b[1;32m     87\u001b[0m         \u001b[0;32mif\u001b[0m \u001b[0;32mnot\u001b[0m \u001b[0;34m(\u001b[0m\u001b[0;36m200\u001b[0m \u001b[0;34m<=\u001b[0m \u001b[0mresponse\u001b[0m\u001b[0;34m.\u001b[0m\u001b[0mstatus_code\u001b[0m \u001b[0;34m<\u001b[0m \u001b[0;36m300\u001b[0m\u001b[0;34m)\u001b[0m \u001b[0;32mand\u001b[0m \u001b[0mresponse\u001b[0m\u001b[0;34m.\u001b[0m\u001b[0mstatus_code\u001b[0m \u001b[0;32mnot\u001b[0m \u001b[0;32min\u001b[0m \u001b[0mignore\u001b[0m\u001b[0;34m:\u001b[0m\u001b[0;34m\u001b[0m\u001b[0m\n\u001b[1;32m     88\u001b[0m             \u001b[0mself\u001b[0m\u001b[0;34m.\u001b[0m\u001b[0mlog_request_fail\u001b[0m\u001b[0;34m(\u001b[0m\u001b[0mmethod\u001b[0m\u001b[0;34m,\u001b[0m \u001b[0murl\u001b[0m\u001b[0;34m,\u001b[0m \u001b[0mresponse\u001b[0m\u001b[0;34m.\u001b[0m\u001b[0mrequest\u001b[0m\u001b[0;34m.\u001b[0m\u001b[0mpath_url\u001b[0m\u001b[0;34m,\u001b[0m \u001b[0mbody\u001b[0m\u001b[0;34m,\u001b[0m \u001b[0mduration\u001b[0m\u001b[0;34m,\u001b[0m \u001b[0mresponse\u001b[0m\u001b[0;34m.\u001b[0m\u001b[0mstatus_code\u001b[0m\u001b[0;34m,\u001b[0m \u001b[0mraw_data\u001b[0m\u001b[0;34m)\u001b[0m\u001b[0;34m\u001b[0m\u001b[0m\n\u001b[0;32m---> 89\u001b[0;31m             \u001b[0mself\u001b[0m\u001b[0;34m.\u001b[0m\u001b[0m_raise_error\u001b[0m\u001b[0;34m(\u001b[0m\u001b[0mresponse\u001b[0m\u001b[0;34m.\u001b[0m\u001b[0mstatus_code\u001b[0m\u001b[0;34m,\u001b[0m \u001b[0mraw_data\u001b[0m\u001b[0;34m)\u001b[0m\u001b[0;34m\u001b[0m\u001b[0m\n\u001b[0m\u001b[1;32m     90\u001b[0m \u001b[0;34m\u001b[0m\u001b[0m\n\u001b[1;32m     91\u001b[0m         \u001b[0mself\u001b[0m\u001b[0;34m.\u001b[0m\u001b[0mlog_request_success\u001b[0m\u001b[0;34m(\u001b[0m\u001b[0mmethod\u001b[0m\u001b[0;34m,\u001b[0m \u001b[0murl\u001b[0m\u001b[0;34m,\u001b[0m \u001b[0mresponse\u001b[0m\u001b[0;34m.\u001b[0m\u001b[0mrequest\u001b[0m\u001b[0;34m.\u001b[0m\u001b[0mpath_url\u001b[0m\u001b[0;34m,\u001b[0m \u001b[0mbody\u001b[0m\u001b[0;34m,\u001b[0m \u001b[0mresponse\u001b[0m\u001b[0;34m.\u001b[0m\u001b[0mstatus_code\u001b[0m\u001b[0;34m,\u001b[0m \u001b[0mraw_data\u001b[0m\u001b[0;34m,\u001b[0m \u001b[0mduration\u001b[0m\u001b[0;34m)\u001b[0m\u001b[0;34m\u001b[0m\u001b[0m\n",
      "\u001b[0;32m/Users/rmathew/anaconda/lib/python3.5/site-packages/elasticsearch/connection/base.py\u001b[0m in \u001b[0;36m_raise_error\u001b[0;34m(self, status_code, raw_data)\u001b[0m\n\u001b[1;32m    122\u001b[0m             \u001b[0mlogger\u001b[0m\u001b[0;34m.\u001b[0m\u001b[0mwarning\u001b[0m\u001b[0;34m(\u001b[0m\u001b[0;34m'Undecodable raw error response from server: %s'\u001b[0m\u001b[0;34m,\u001b[0m \u001b[0merr\u001b[0m\u001b[0;34m)\u001b[0m\u001b[0;34m\u001b[0m\u001b[0m\n\u001b[1;32m    123\u001b[0m \u001b[0;34m\u001b[0m\u001b[0m\n\u001b[0;32m--> 124\u001b[0;31m         \u001b[0;32mraise\u001b[0m \u001b[0mHTTP_EXCEPTIONS\u001b[0m\u001b[0;34m.\u001b[0m\u001b[0mget\u001b[0m\u001b[0;34m(\u001b[0m\u001b[0mstatus_code\u001b[0m\u001b[0;34m,\u001b[0m \u001b[0mTransportError\u001b[0m\u001b[0;34m)\u001b[0m\u001b[0;34m(\u001b[0m\u001b[0mstatus_code\u001b[0m\u001b[0;34m,\u001b[0m \u001b[0merror_message\u001b[0m\u001b[0;34m,\u001b[0m \u001b[0madditional_info\u001b[0m\u001b[0;34m)\u001b[0m\u001b[0;34m\u001b[0m\u001b[0m\n\u001b[0m\u001b[1;32m    125\u001b[0m \u001b[0;34m\u001b[0m\u001b[0m\n\u001b[1;32m    126\u001b[0m \u001b[0;34m\u001b[0m\u001b[0m\n",
      "\u001b[0;31mTransportError\u001b[0m: TransportError(500, 'search_phase_execution_exception', 'Result window is too large, from + size must be less than or equal to: [10000] but was [29253]. See the scroll api for a more efficient way to request large data sets. This limit can be set by changing the [index.max_result_window] index level setting.')"
     ]
    }
   ],
   "source": [
    "def search_term(es, term):\n",
    "    search_qry = {\n",
    "      \"query\": {\n",
    "        \"match\": {\n",
    "          \"text\": term\n",
    "          }\n",
    "      }\n",
    "    }\n",
    "    res = es.search(index=ELASTIC_INDEX, doc_type=ELASTIC_TYPE, _source=[\"_id\", \"doc_length\"], size=get_df(es, term), body=search_qry)\n",
    "    return (list(map(lambda x: {\"id\": x['_id'], \"dlen\": x['_source']['doc_length']}, res['hits']['hits'])))\n",
    "\n",
    "len(search_term(es, \"government\"))"
   ]
  },
  {
   "cell_type": "code",
   "execution_count": 6,
   "metadata": {},
   "outputs": [
    {
     "data": {
      "text/plain": [
       "[{'df': 10438, 'id': 'AP890101-0009', 'term': '01', 'tf': 4},\n",
       " {'df': 10438, 'id': 'AP890601-0343', 'term': '01', 'tf': 2}]"
      ]
     },
     "execution_count": 6,
     "metadata": {},
     "output_type": "execute_result"
    }
   ],
   "source": [
    "mtermvectors_ids = [\"AP890101-0009\", \"AP890601-0343\"]\n",
    "def get_tf_docs(es, term, doc_ids):\n",
    "    res = es.mtermvectors(index=ELASTIC_INDEX, doc_type=ELASTIC_TYPE, offsets=\"false\", payloads=\"false\", positions=\"false\", term_statistics=\"true\", field_statistics=\"true\", ids=doc_ids)['docs']\n",
    "    return list(map(lambda x: {\"id\": x['_id'], \"term\": term, \"tf\": x['term_vectors']['text']['terms'][term]['term_freq'], \"df\": x['term_vectors']['text']['terms'][term]['doc_freq']}, res))\n",
    "\n",
    "get_tf_docs(es, '01', mtermvectors_ids)"
   ]
  },
  {
   "cell_type": "code",
   "execution_count": null,
   "metadata": {
    "collapsed": true
   },
   "outputs": [],
   "source": [
    "doc_list = {}\n",
    "token = get_tokens(es, \"Document will discuss allegations, or measures being taken against, corrupt public officials of any governmental jurisdiction worldwide.\")[0]\n",
    "for doc in search_term(es, token):\n",
    "    if (doc['id'] in list(doc_list.keys())):\n",
    "        doc_list[doc['id']]['terms']\n",
    "    else:\n",
    "        doc_list[doc['id']] = {}\n",
    "        doc_list[doc['id']]['dlen'] = doc['dlen']\n",
    "        for doc_id in list(doc_list.keys()):\n",
    "            doc_list[doc['id']]['terms'] = []\n",
    "            doc_list[doc['id']]['terms'].append(get_tf(doc_id, token, True))"
   ]
  },
  {
   "cell_type": "code",
   "execution_count": 19,
   "metadata": {},
   "outputs": [
    {
     "data": {
      "text/plain": [
       "6359"
      ]
     },
     "execution_count": 19,
     "metadata": {},
     "output_type": "execute_result"
    }
   ],
   "source": []
  },
  {
   "cell_type": "code",
   "execution_count": 39,
   "metadata": {},
   "outputs": [
    {
     "data": {
      "text/plain": [
       "84678"
      ]
     },
     "execution_count": 39,
     "metadata": {},
     "output_type": "execute_result"
    }
   ],
   "source": [
    "es.field_stats(index=ELASTIC_INDEX, fields=['doc_length'])['indices']['_all']['fields']['doc_length']['doc_count']"
   ]
  },
  {
   "cell_type": "code",
   "execution_count": 3,
   "metadata": {},
   "outputs": [
    {
     "name": "stdout",
     "output_type": "stream",
     "text": [
      "{'_id': 'AP890310-0090', '_type': 'document', '_version': 1, 'found': True, '_source': {'text': \"AP890310-0090 \\nAP-NR-03-10-89 0957EST\\nr a PM-ComaWoman     03-10 0374\\nPM-Coma Woman,0385\\nComatose Woman Transferred To New Jersey Rehabilitation Center\\nBy MELANIE MADER\\nAssociated Press Writer\\nEDISON, N.J. (AP) \\n\\n   A comatose New York woman who received an\\nabortion after an emotional legal battle started an evaluation and\\ntherapy program today at a rehabilitation center in this central New\\nJersey community.\\n   ``We're committed to long-term care. ... We're talking months,\\nnot weeks,'' said Dr. Keith D. Cicerone, clinical director of trauma\\nrehabilitation at John F. Kennedy Medical Center's Robert Wood\\nJohnson Jr. Rehabilitation Institute.\\n   Doctors will evaluate Nancy Klein and make an initial prognosis\\non her condition in four to six weeks, Cicerone said. He declined to\\ngive her condition or specific details of treatment, citing a\\nrequest by the family.\\n   Mrs. Klein has been comatose since suffering severe brain\\ninjuries in a Dec. 13 automobile accident near her Long Island home.\\nShe had been at North Shore Hospital on Long Island before being\\ntransferred to the institute Thursday.\\n   Her husband, Martin Klein, went to court last month and won\\nguardianship of his wife so he could authorize the abortion. She was\\n17 weeks pregnant.\\n   Anti-abortion activists challenged the guardianship and appealed\\nto the U.S. Supreme Court, which declined to hear the case.\\n   In a lower court, doctors for both sides disagreed about whether\\nhaving an abortion could help Mrs. Klein recover.\\n   She could spend up to two years at the center, and then\\nadditional years receiving out-patient treatment, Cicerone said. The\\nfamily was not present.\\n   Klein said in an interview that he told his wife not to be\\nscared, although he's not sure she understands. ``I told her we had\\nworked hard to get her into a place that will get her home faster,''\\nhe said.\\n   Mrs. Klein's relatives said they have been encouraged by signs of\\nprogress since the abortion on Feb. 11.\\n   Anne Zusselman, of Delray Beach, Fla., has said her daughter can\\nmove her head to both sides, open her mouth and lift her left arm on\\ncommand.\\n   Doctors at North Shore continue to offer little hope for her\\nrecovery.\\n   ``Doctors have seen a slight neurological improvement in Mrs.\\nKlein,'' said North Shore spokesman Daniel Rosette. ``They won't\\npredict her long-term prognosis, despite the slight signs of\\nimprovement.''\", 'timestamp': '2017-05-22T19:55:31.985471', 'fileid': 'AP-NR-03-10-89 0957EST', 'doc_length': 234}, '_index': 'ap_dataset'}\n"
     ]
    }
   ],
   "source": [
    "res = es.get(index=ELASTIC_INDEX, doc_type=ELASTIC_TYPE, id=\"AP890310-0090\")\n",
    "print(res)\n",
    "\n",
    "# res = es.search(index=\"test-index\", body={\"query\": {\"match_all\": {}}})\n",
    "# print(\"Got %d Hits:\" % res['hits']['total'])\n",
    "# for hit in res['hits']['hits']:\n",
    "#     print(\"%(timestamp)s: %(body)s\" % hit[\"_source\"])"
   ]
  },
  {
   "cell_type": "code",
   "execution_count": 5,
   "metadata": {},
   "outputs": [
    {
     "data": {
      "text/plain": [
       "{'_id': 'AP890310-0090',\n",
       " '_index': 'ap_dataset',\n",
       " '_type': 'document',\n",
       " '_version': 1,\n",
       " 'found': True,\n",
       " 'term_vectors': {'text': {'field_statistics': {'doc_count': 30020,\n",
       "    'sum_doc_freq': 5524322,\n",
       "    'sum_ttf': 8434096},\n",
       "   'terms': {'0090': {'term_freq': 1,\n",
       "     'tokens': [{'end_offset': 13, 'position': 1, 'start_offset': 9}]},\n",
       "    '03': {'term_freq': 2,\n",
       "     'tokens': [{'end_offset': 23, 'position': 4, 'start_offset': 21},\n",
       "      {'end_offset': 61, 'position': 12, 'start_offset': 59}]},\n",
       "    '0374': {'term_freq': 1,\n",
       "     'tokens': [{'end_offset': 69, 'position': 14, 'start_offset': 65}]},\n",
       "    '0385': {'term_freq': 1,\n",
       "     'tokens': [{'end_offset': 88, 'position': 18, 'start_offset': 84}]},\n",
       "    '0957est': {'term_freq': 1,\n",
       "     'tokens': [{'end_offset': 37, 'position': 7, 'start_offset': 30}]},\n",
       "    '10': {'term_freq': 2,\n",
       "     'tokens': [{'end_offset': 26, 'position': 5, 'start_offset': 24},\n",
       "      {'end_offset': 64, 'position': 13, 'start_offset': 62}]},\n",
       "    '11': {'term_freq': 1,\n",
       "     'tokens': [{'end_offset': 1967, 'position': 322, 'start_offset': 1965}]},\n",
       "    '13': {'term_freq': 1,\n",
       "     'tokens': [{'end_offset': 951, 'position': 150, 'start_offset': 949}]},\n",
       "    '17': {'term_freq': 1,\n",
       "     'tokens': [{'end_offset': 1237, 'position': 198, 'start_offset': 1235}]},\n",
       "    '89': {'term_freq': 1,\n",
       "     'tokens': [{'end_offset': 29, 'position': 6, 'start_offset': 27}]},\n",
       "    'abort': {'term_freq': 5,\n",
       "     'tokens': [{'end_offset': 266, 'position': 44, 'start_offset': 258},\n",
       "      {'end_offset': 1225, 'position': 195, 'start_offset': 1217},\n",
       "      {'end_offset': 1270, 'position': 202, 'start_offset': 1262},\n",
       "      {'end_offset': 1468, 'position': 233, 'start_offset': 1460},\n",
       "      {'end_offset': 1956, 'position': 319, 'start_offset': 1948}]},\n",
       "    'accid': {'term_freq': 1,\n",
       "     'tokens': [{'end_offset': 971, 'position': 152, 'start_offset': 963}]},\n",
       "    'activist': {'term_freq': 1,\n",
       "     'tokens': [{'end_offset': 1280, 'position': 203, 'start_offset': 1271}]},\n",
       "    'addit': {'term_freq': 1,\n",
       "     'tokens': [{'end_offset': 1569, 'position': 251, 'start_offset': 1559}]},\n",
       "    'ann': {'term_freq': 1,\n",
       "     'tokens': [{'end_offset': 1976, 'position': 323, 'start_offset': 1972}]},\n",
       "    'anti': {'term_freq': 1,\n",
       "     'tokens': [{'end_offset': 1261, 'position': 201, 'start_offset': 1257}]},\n",
       "    'ap': {'term_freq': 2,\n",
       "     'tokens': [{'end_offset': 17, 'position': 2, 'start_offset': 15},\n",
       "      {'end_offset': 209, 'position': 35, 'start_offset': 207}]},\n",
       "    'ap890310': {'term_freq': 1,\n",
       "     'tokens': [{'end_offset': 8, 'position': 0, 'start_offset': 0}]},\n",
       "    'appeal': {'term_freq': 1,\n",
       "     'tokens': [{'end_offset': 1321, 'position': 208, 'start_offset': 1313}]},\n",
       "    'arm': {'term_freq': 1,\n",
       "     'tokens': [{'end_offset': 2102, 'position': 347, 'start_offset': 2099}]},\n",
       "    'associ': {'term_freq': 1,\n",
       "     'tokens': [{'end_offset': 179, 'position': 30, 'start_offset': 169}]},\n",
       "    'author': {'term_freq': 1,\n",
       "     'tokens': [{'end_offset': 1212, 'position': 193, 'start_offset': 1203}]},\n",
       "    'automobil': {'term_freq': 1,\n",
       "     'tokens': [{'end_offset': 962, 'position': 151, 'start_offset': 952}]},\n",
       "    'battl': {'term_freq': 1,\n",
       "     'tokens': [{'end_offset': 298, 'position': 49, 'start_offset': 292}]},\n",
       "    'beach': {'term_freq': 1,\n",
       "     'tokens': [{'end_offset': 2003, 'position': 327, 'start_offset': 1998}]},\n",
       "    'brain': {'term_freq': 1,\n",
       "     'tokens': [{'end_offset': 929, 'position': 145, 'start_offset': 924}]},\n",
       "    'care': {'term_freq': 1,\n",
       "     'tokens': [{'end_offset': 450, 'position': 72, 'start_offset': 446}]},\n",
       "    'case': {'term_freq': 1,\n",
       "     'tokens': [{'end_offset': 1380, 'position': 219, 'start_offset': 1376}]},\n",
       "    'center': {'term_freq': 4,\n",
       "     'tokens': [{'end_offset': 151, 'position': 26, 'start_offset': 145},\n",
       "      {'end_offset': 373, 'position': 60, 'start_offset': 367},\n",
       "      {'end_offset': 597, 'position': 93, 'start_offset': 589},\n",
       "      {'end_offset': 1548, 'position': 248, 'start_offset': 1542}]},\n",
       "    'central': {'term_freq': 1,\n",
       "     'tokens': [{'end_offset': 389, 'position': 63, 'start_offset': 382}]},\n",
       "    'challeng': {'term_freq': 1,\n",
       "     'tokens': [{'end_offset': 1291, 'position': 204, 'start_offset': 1281}]},\n",
       "    'ciceron': {'term_freq': 3,\n",
       "     'tokens': [{'end_offset': 517, 'position': 82, 'start_offset': 509},\n",
       "      {'end_offset': 762, 'position': 118, 'start_offset': 754},\n",
       "      {'end_offset': 1617, 'position': 257, 'start_offset': 1609}]},\n",
       "    'cite': {'term_freq': 1,\n",
       "     'tokens': [{'end_offset': 843, 'position': 131, 'start_offset': 837}]},\n",
       "    'clinic': {'term_freq': 1,\n",
       "     'tokens': [{'end_offset': 527, 'position': 83, 'start_offset': 519}]},\n",
       "    'coma': {'term_freq': 1,\n",
       "     'tokens': [{'end_offset': 77, 'position': 16, 'start_offset': 73}]},\n",
       "    'comatos': {'term_freq': 3,\n",
       "     'tokens': [{'end_offset': 97, 'position': 19, 'start_offset': 89},\n",
       "      {'end_offset': 226, 'position': 37, 'start_offset': 218},\n",
       "      {'end_offset': 900, 'position': 141, 'start_offset': 892}]},\n",
       "    'comawoman': {'term_freq': 1,\n",
       "     'tokens': [{'end_offset': 54, 'position': 11, 'start_offset': 45}]},\n",
       "    'command': {'term_freq': 1,\n",
       "     'tokens': [{'end_offset': 2113, 'position': 349, 'start_offset': 2106}]},\n",
       "    'commit': {'term_freq': 1,\n",
       "     'tokens': [{'end_offset': 432, 'position': 68, 'start_offset': 423}]},\n",
       "    'commun': {'term_freq': 1,\n",
       "     'tokens': [{'end_offset': 410, 'position': 66, 'start_offset': 401}]},\n",
       "    'condit': {'term_freq': 2,\n",
       "     'tokens': [{'end_offset': 731, 'position': 112, 'start_offset': 722},\n",
       "      {'end_offset': 802, 'position': 125, 'start_offset': 793}]},\n",
       "    'continu': {'term_freq': 1,\n",
       "     'tokens': [{'end_offset': 2149, 'position': 354, 'start_offset': 2141}]},\n",
       "    'court': {'term_freq': 3,\n",
       "     'tokens': [{'end_offset': 1146, 'position': 181, 'start_offset': 1141},\n",
       "      {'end_offset': 1347, 'position': 213, 'start_offset': 1342},\n",
       "      {'end_offset': 1401, 'position': 223, 'start_offset': 1396}]},\n",
       "    'd': {'term_freq': 1,\n",
       "     'tokens': [{'end_offset': 507, 'position': 81, 'start_offset': 506}]},\n",
       "    'daniel': {'term_freq': 1,\n",
       "     'tokens': [{'end_offset': 2296, 'position': 376, 'start_offset': 2290}]},\n",
       "    'daughter': {'term_freq': 1,\n",
       "     'tokens': [{'end_offset': 2032, 'position': 332, 'start_offset': 2024}]},\n",
       "    'dec': {'term_freq': 1,\n",
       "     'tokens': [{'end_offset': 947, 'position': 149, 'start_offset': 944}]},\n",
       "    'declin': {'term_freq': 2,\n",
       "     'tokens': [{'end_offset': 780, 'position': 121, 'start_offset': 772},\n",
       "      {'end_offset': 1363, 'position': 215, 'start_offset': 1355}]},\n",
       "    'delrai': {'term_freq': 1,\n",
       "     'tokens': [{'end_offset': 1997, 'position': 326, 'start_offset': 1991}]},\n",
       "    'despit': {'term_freq': 1,\n",
       "     'tokens': [{'end_offset': 2359, 'position': 385, 'start_offset': 2352}]},\n",
       "    'detail': {'term_freq': 1,\n",
       "     'tokens': [{'end_offset': 822, 'position': 128, 'start_offset': 815}]},\n",
       "    'director': {'term_freq': 1,\n",
       "     'tokens': [{'end_offset': 536, 'position': 84, 'start_offset': 528}]},\n",
       "    'disagre': {'term_freq': 1,\n",
       "     'tokens': [{'end_offset': 1435, 'position': 228, 'start_offset': 1426}]},\n",
       "    'doctor': {'term_freq': 4,\n",
       "     'tokens': [{'end_offset': 658, 'position': 100, 'start_offset': 651},\n",
       "      {'end_offset': 1410, 'position': 224, 'start_offset': 1403},\n",
       "      {'end_offset': 2125, 'position': 350, 'start_offset': 2118},\n",
       "      {'end_offset': 2201, 'position': 362, 'start_offset': 2194}]},\n",
       "    'dr': {'term_freq': 1,\n",
       "     'tokens': [{'end_offset': 498, 'position': 79, 'start_offset': 496}]},\n",
       "    'edison': {'term_freq': 1,\n",
       "     'tokens': [{'end_offset': 199, 'position': 33, 'start_offset': 193}]},\n",
       "    'emot': {'term_freq': 1,\n",
       "     'tokens': [{'end_offset': 285, 'position': 47, 'start_offset': 276}]},\n",
       "    'encourag': {'term_freq': 1,\n",
       "     'tokens': [{'end_offset': 1916, 'position': 312, 'start_offset': 1906}]},\n",
       "    'evalu': {'term_freq': 2,\n",
       "     'tokens': [{'end_offset': 320, 'position': 52, 'start_offset': 310},\n",
       "      {'end_offset': 672, 'position': 102, 'start_offset': 664}]},\n",
       "    'f': {'term_freq': 1,\n",
       "     'tokens': [{'end_offset': 571, 'position': 90, 'start_offset': 570}]},\n",
       "    'famili': {'term_freq': 2,\n",
       "     'tokens': [{'end_offset': 867, 'position': 136, 'start_offset': 861},\n",
       "      {'end_offset': 1634, 'position': 260, 'start_offset': 1628}]},\n",
       "    'faster': {'term_freq': 1,\n",
       "     'tokens': [{'end_offset': 1847, 'position': 302, 'start_offset': 1841}]},\n",
       "    'feb': {'term_freq': 1,\n",
       "     'tokens': [{'end_offset': 1963, 'position': 321, 'start_offset': 1960}]},\n",
       "    'fla': {'term_freq': 1,\n",
       "     'tokens': [{'end_offset': 2008, 'position': 328, 'start_offset': 2005}]},\n",
       "    'four': {'term_freq': 1,\n",
       "     'tokens': [{'end_offset': 739, 'position': 114, 'start_offset': 735}]},\n",
       "    'give': {'term_freq': 1,\n",
       "     'tokens': [{'end_offset': 788, 'position': 123, 'start_offset': 784}]},\n",
       "    'guardianship': {'term_freq': 2,\n",
       "     'tokens': [{'end_offset': 1178, 'position': 186, 'start_offset': 1166},\n",
       "      {'end_offset': 1308, 'position': 206, 'start_offset': 1296}]},\n",
       "    'hard': {'term_freq': 1,\n",
       "     'tokens': [{'end_offset': 1793, 'position': 290, 'start_offset': 1789}]},\n",
       "    'have': {'term_freq': 1,\n",
       "     'tokens': [{'end_offset': 1456, 'position': 231, 'start_offset': 1450}]},\n",
       "    'head': {'term_freq': 1,\n",
       "     'tokens': [{'end_offset': 2050, 'position': 336, 'start_offset': 2046}]},\n",
       "    'hear': {'term_freq': 1,\n",
       "     'tokens': [{'end_offset': 1371, 'position': 217, 'start_offset': 1367}]},\n",
       "    'help': {'term_freq': 1,\n",
       "     'tokens': [{'end_offset': 1479, 'position': 235, 'start_offset': 1475}]},\n",
       "    'home': {'term_freq': 2,\n",
       "     'tokens': [{'end_offset': 997, 'position': 157, 'start_offset': 993},\n",
       "      {'end_offset': 1840, 'position': 301, 'start_offset': 1836}]},\n",
       "    'hope': {'term_freq': 1,\n",
       "     'tokens': [{'end_offset': 2170, 'position': 358, 'start_offset': 2166}]},\n",
       "    'hospit': {'term_freq': 1,\n",
       "     'tokens': [{'end_offset': 1035, 'position': 164, 'start_offset': 1027}]},\n",
       "    'husband': {'term_freq': 1,\n",
       "     'tokens': [{'end_offset': 1117, 'position': 176, 'start_offset': 1110}]},\n",
       "    'improv': {'term_freq': 2,\n",
       "     'tokens': [{'end_offset': 2245, 'position': 368, 'start_offset': 2234},\n",
       "      {'end_offset': 2391, 'position': 390, 'start_offset': 2380}]},\n",
       "    'initi': {'term_freq': 1,\n",
       "     'tokens': [{'end_offset': 704, 'position': 108, 'start_offset': 697}]},\n",
       "    'injuri': {'term_freq': 1,\n",
       "     'tokens': [{'end_offset': 938, 'position': 146, 'start_offset': 930}]},\n",
       "    'institut': {'term_freq': 2,\n",
       "     'tokens': [{'end_offset': 646, 'position': 99, 'start_offset': 637},\n",
       "      {'end_offset': 1092, 'position': 173, 'start_offset': 1083}]},\n",
       "    'interview': {'term_freq': 1,\n",
       "     'tokens': [{'end_offset': 1681, 'position': 268, 'start_offset': 1672}]},\n",
       "    'island': {'term_freq': 2,\n",
       "     'tokens': [{'end_offset': 992, 'position': 156, 'start_offset': 986},\n",
       "      {'end_offset': 1050, 'position': 167, 'start_offset': 1044}]},\n",
       "    'jersei': {'term_freq': 2,\n",
       "     'tokens': [{'end_offset': 129, 'position': 24, 'start_offset': 123},\n",
       "      {'end_offset': 400, 'position': 65, 'start_offset': 394}]},\n",
       "    'john': {'term_freq': 1,\n",
       "     'tokens': [{'end_offset': 569, 'position': 89, 'start_offset': 565}]},\n",
       "    'johnson': {'term_freq': 1,\n",
       "     'tokens': [{'end_offset': 617, 'position': 96, 'start_offset': 610}]},\n",
       "    'jr': {'term_freq': 1,\n",
       "     'tokens': [{'end_offset': 620, 'position': 97, 'start_offset': 618}]},\n",
       "    'keith': {'term_freq': 1,\n",
       "     'tokens': [{'end_offset': 505, 'position': 80, 'start_offset': 500}]},\n",
       "    'kennedi': {'term_freq': 1,\n",
       "     'tokens': [{'end_offset': 580, 'position': 91, 'start_offset': 573}]},\n",
       "    'klein': {'term_freq': 7,\n",
       "     'tokens': [{'end_offset': 684, 'position': 104, 'start_offset': 679},\n",
       "      {'end_offset': 882, 'position': 138, 'start_offset': 877},\n",
       "      {'end_offset': 1131, 'position': 178, 'start_offset': 1126},\n",
       "      {'end_offset': 1490, 'position': 237, 'start_offset': 1485},\n",
       "      {'end_offset': 1660, 'position': 264, 'start_offset': 1655},\n",
       "      {'end_offset': 1875, 'position': 306, 'start_offset': 1868},\n",
       "      {'end_offset': 2259, 'position': 371, 'start_offset': 2254}]},\n",
       "    'left': {'term_freq': 1,\n",
       "     'tokens': [{'end_offset': 2098, 'position': 346, 'start_offset': 2094}]},\n",
       "    'legal': {'term_freq': 1,\n",
       "     'tokens': [{'end_offset': 291, 'position': 48, 'start_offset': 286}]},\n",
       "    'lift': {'term_freq': 1,\n",
       "     'tokens': [{'end_offset': 2089, 'position': 344, 'start_offset': 2085}]},\n",
       "    'long': {'term_freq': 4,\n",
       "     'tokens': [{'end_offset': 440, 'position': 70, 'start_offset': 436},\n",
       "      {'end_offset': 985, 'position': 155, 'start_offset': 981},\n",
       "      {'end_offset': 1043, 'position': 166, 'start_offset': 1039},\n",
       "      {'end_offset': 2335, 'position': 382, 'start_offset': 2331}]},\n",
       "    'lower': {'term_freq': 1,\n",
       "     'tokens': [{'end_offset': 1395, 'position': 222, 'start_offset': 1390}]},\n",
       "    'mader': {'term_freq': 1,\n",
       "     'tokens': [{'end_offset': 168, 'position': 29, 'start_offset': 163}]},\n",
       "    'make': {'term_freq': 1,\n",
       "     'tokens': [{'end_offset': 693, 'position': 106, 'start_offset': 689}]},\n",
       "    'martin': {'term_freq': 1,\n",
       "     'tokens': [{'end_offset': 1125, 'position': 177, 'start_offset': 1119}]},\n",
       "    'medic': {'term_freq': 1,\n",
       "     'tokens': [{'end_offset': 588, 'position': 92, 'start_offset': 581}]},\n",
       "    'melani': {'term_freq': 1,\n",
       "     'tokens': [{'end_offset': 162, 'position': 28, 'start_offset': 155}]},\n",
       "    'month': {'term_freq': 2,\n",
       "     'tokens': [{'end_offset': 476, 'position': 75, 'start_offset': 470},\n",
       "      {'end_offset': 1157, 'position': 183, 'start_offset': 1152}]},\n",
       "    'mouth': {'term_freq': 1,\n",
       "     'tokens': [{'end_offset': 2080, 'position': 342, 'start_offset': 2075}]},\n",
       "    'move': {'term_freq': 1,\n",
       "     'tokens': [{'end_offset': 2041, 'position': 334, 'start_offset': 2037}]},\n",
       "    'n.j': {'term_freq': 1,\n",
       "     'tokens': [{'end_offset': 204, 'position': 34, 'start_offset': 201}]},\n",
       "    'nanci': {'term_freq': 1,\n",
       "     'tokens': [{'end_offset': 678, 'position': 103, 'start_offset': 673}]},\n",
       "    'near': {'term_freq': 1,\n",
       "     'tokens': [{'end_offset': 976, 'position': 153, 'start_offset': 972}]},\n",
       "    'neurolog': {'term_freq': 1,\n",
       "     'tokens': [{'end_offset': 2233, 'position': 367, 'start_offset': 2221}]},\n",
       "    'new': {'term_freq': 3,\n",
       "     'tokens': [{'end_offset': 122, 'position': 23, 'start_offset': 119},\n",
       "      {'end_offset': 230, 'position': 38, 'start_offset': 227},\n",
       "      {'end_offset': 393, 'position': 64, 'start_offset': 390}]},\n",
       "    'north': {'term_freq': 3,\n",
       "     'tokens': [{'end_offset': 1020, 'position': 162, 'start_offset': 1015},\n",
       "      {'end_offset': 2134, 'position': 352, 'start_offset': 2129},\n",
       "      {'end_offset': 2273, 'position': 373, 'start_offset': 2268}]},\n",
       "    'nr': {'term_freq': 1,\n",
       "     'tokens': [{'end_offset': 20, 'position': 3, 'start_offset': 18}]},\n",
       "    'offer': {'term_freq': 1,\n",
       "     'tokens': [{'end_offset': 2158, 'position': 356, 'start_offset': 2153}]},\n",
       "    'open': {'term_freq': 1,\n",
       "     'tokens': [{'end_offset': 2070, 'position': 340, 'start_offset': 2066}]},\n",
       "    'patient': {'term_freq': 1,\n",
       "     'tokens': [{'end_offset': 1597, 'position': 255, 'start_offset': 1590}]},\n",
       "    'place': {'term_freq': 1,\n",
       "     'tokens': [{'end_offset': 1817, 'position': 296, 'start_offset': 1812}]},\n",
       "    'pm': {'term_freq': 2,\n",
       "     'tokens': [{'end_offset': 44, 'position': 10, 'start_offset': 42},\n",
       "      {'end_offset': 72, 'position': 15, 'start_offset': 70}]},\n",
       "    'predict': {'term_freq': 1,\n",
       "     'tokens': [{'end_offset': 2326, 'position': 380, 'start_offset': 2319}]},\n",
       "    'pregnant': {'term_freq': 1,\n",
       "     'tokens': [{'end_offset': 1252, 'position': 200, 'start_offset': 1244}]},\n",
       "    'present': {'term_freq': 1,\n",
       "     'tokens': [{'end_offset': 1650, 'position': 263, 'start_offset': 1643}]},\n",
       "    'press': {'term_freq': 1,\n",
       "     'tokens': [{'end_offset': 185, 'position': 31, 'start_offset': 180}]},\n",
       "    'prognosi': {'term_freq': 2,\n",
       "     'tokens': [{'end_offset': 714, 'position': 109, 'start_offset': 705},\n",
       "      {'end_offset': 2350, 'position': 384, 'start_offset': 2341}]},\n",
       "    'program': {'term_freq': 1,\n",
       "     'tokens': [{'end_offset': 340, 'position': 55, 'start_offset': 333}]},\n",
       "    'progress': {'term_freq': 1,\n",
       "     'tokens': [{'end_offset': 1937, 'position': 316, 'start_offset': 1929}]},\n",
       "    'r': {'term_freq': 1,\n",
       "     'tokens': [{'end_offset': 39, 'position': 8, 'start_offset': 38}]},\n",
       "    'receiv': {'term_freq': 2,\n",
       "     'tokens': [{'end_offset': 254, 'position': 42, 'start_offset': 246},\n",
       "      {'end_offset': 1585, 'position': 253, 'start_offset': 1576}]},\n",
       "    'recov': {'term_freq': 1,\n",
       "     'tokens': [{'end_offset': 1498, 'position': 238, 'start_offset': 1491}]},\n",
       "    'recoveri': {'term_freq': 1,\n",
       "     'tokens': [{'end_offset': 2187, 'position': 361, 'start_offset': 2179}]},\n",
       "    'rehabilit': {'term_freq': 4,\n",
       "     'tokens': [{'end_offset': 144, 'position': 25, 'start_offset': 130},\n",
       "      {'end_offset': 366, 'position': 59, 'start_offset': 352},\n",
       "      {'end_offset': 561, 'position': 87, 'start_offset': 547},\n",
       "      {'end_offset': 636, 'position': 98, 'start_offset': 622}]},\n",
       "    'rel': {'term_freq': 1,\n",
       "     'tokens': [{'end_offset': 1885, 'position': 307, 'start_offset': 1876}]},\n",
       "    'request': {'term_freq': 1,\n",
       "     'tokens': [{'end_offset': 853, 'position': 133, 'start_offset': 846}]},\n",
       "    'robert': {'term_freq': 1,\n",
       "     'tokens': [{'end_offset': 604, 'position': 94, 'start_offset': 598}]},\n",
       "    'rosett': {'term_freq': 1,\n",
       "     'tokens': [{'end_offset': 2304, 'position': 377, 'start_offset': 2297}]},\n",
       "    'scare': {'term_freq': 1,\n",
       "     'tokens': [{'end_offset': 1720, 'position': 277, 'start_offset': 1714}]},\n",
       "    'sever': {'term_freq': 1,\n",
       "     'tokens': [{'end_offset': 923, 'position': 144, 'start_offset': 917}]},\n",
       "    'shore': {'term_freq': 3,\n",
       "     'tokens': [{'end_offset': 1026, 'position': 163, 'start_offset': 1021},\n",
       "      {'end_offset': 2140, 'position': 353, 'start_offset': 2135},\n",
       "      {'end_offset': 2279, 'position': 374, 'start_offset': 2274}]},\n",
       "    'side': {'term_freq': 2,\n",
       "     'tokens': [{'end_offset': 1425, 'position': 227, 'start_offset': 1420},\n",
       "      {'end_offset': 2064, 'position': 339, 'start_offset': 2059}]},\n",
       "    'sign': {'term_freq': 2,\n",
       "     'tokens': [{'end_offset': 1925, 'position': 314, 'start_offset': 1920},\n",
       "      {'end_offset': 2376, 'position': 388, 'start_offset': 2371}]},\n",
       "    'six': {'term_freq': 1,\n",
       "     'tokens': [{'end_offset': 746, 'position': 116, 'start_offset': 743}]},\n",
       "    'slight': {'term_freq': 2,\n",
       "     'tokens': [{'end_offset': 2220, 'position': 366, 'start_offset': 2214},\n",
       "      {'end_offset': 2370, 'position': 387, 'start_offset': 2364}]},\n",
       "    'specif': {'term_freq': 1,\n",
       "     'tokens': [{'end_offset': 814, 'position': 127, 'start_offset': 806}]},\n",
       "    'spend': {'term_freq': 1,\n",
       "     'tokens': [{'end_offset': 1518, 'position': 241, 'start_offset': 1513}]},\n",
       "    'spokesman': {'term_freq': 1,\n",
       "     'tokens': [{'end_offset': 2289, 'position': 375, 'start_offset': 2280}]},\n",
       "    'start': {'term_freq': 1,\n",
       "     'tokens': [{'end_offset': 306, 'position': 50, 'start_offset': 299}]},\n",
       "    'suffer': {'term_freq': 1,\n",
       "     'tokens': [{'end_offset': 916, 'position': 143, 'start_offset': 907}]},\n",
       "    'suprem': {'term_freq': 1,\n",
       "     'tokens': [{'end_offset': 1341, 'position': 212, 'start_offset': 1334}]},\n",
       "    'sure': {'term_freq': 1,\n",
       "     'tokens': [{'end_offset': 1744, 'position': 281, 'start_offset': 1740}]},\n",
       "    'talk': {'term_freq': 1,\n",
       "     'tokens': [{'end_offset': 469, 'position': 74, 'start_offset': 462}]},\n",
       "    'term': {'term_freq': 2,\n",
       "     'tokens': [{'end_offset': 445, 'position': 71, 'start_offset': 441},\n",
       "      {'end_offset': 2340, 'position': 383, 'start_offset': 2336}]},\n",
       "    'therapi': {'term_freq': 1,\n",
       "     'tokens': [{'end_offset': 332, 'position': 54, 'start_offset': 325}]},\n",
       "    'thursdai': {'term_freq': 1,\n",
       "     'tokens': [{'end_offset': 1101, 'position': 174, 'start_offset': 1093}]},\n",
       "    'todai': {'term_freq': 1,\n",
       "     'tokens': [{'end_offset': 346, 'position': 56, 'start_offset': 341}]},\n",
       "    'told': {'term_freq': 2,\n",
       "     'tokens': [{'end_offset': 1694, 'position': 271, 'start_offset': 1690},\n",
       "      {'end_offset': 1770, 'position': 285, 'start_offset': 1766}]},\n",
       "    'transfer': {'term_freq': 2,\n",
       "     'tokens': [{'end_offset': 115, 'position': 21, 'start_offset': 104},\n",
       "      {'end_offset': 1075, 'position': 170, 'start_offset': 1064}]},\n",
       "    'trauma': {'term_freq': 1,\n",
       "     'tokens': [{'end_offset': 546, 'position': 86, 'start_offset': 540}]},\n",
       "    'treatment': {'term_freq': 2,\n",
       "     'tokens': [{'end_offset': 835, 'position': 130, 'start_offset': 826},\n",
       "      {'end_offset': 1607, 'position': 256, 'start_offset': 1598}]},\n",
       "    'two': {'term_freq': 1,\n",
       "     'tokens': [{'end_offset': 1528, 'position': 244, 'start_offset': 1525}]},\n",
       "    'u.': {'term_freq': 1,\n",
       "     'tokens': [{'end_offset': 1332, 'position': 211, 'start_offset': 1329}]},\n",
       "    'understand': {'term_freq': 1,\n",
       "     'tokens': [{'end_offset': 1760, 'position': 283, 'start_offset': 1749}]},\n",
       "    \"we'r\": {'term_freq': 2,\n",
       "     'tokens': [{'end_offset': 422, 'position': 67, 'start_offset': 417},\n",
       "      {'end_offset': 461, 'position': 73, 'start_offset': 456}]},\n",
       "    'week': {'term_freq': 3,\n",
       "     'tokens': [{'end_offset': 487, 'position': 77, 'start_offset': 482},\n",
       "      {'end_offset': 752, 'position': 117, 'start_offset': 747},\n",
       "      {'end_offset': 1243, 'position': 199, 'start_offset': 1238}]},\n",
       "    'went': {'term_freq': 1,\n",
       "     'tokens': [{'end_offset': 1137, 'position': 179, 'start_offset': 1133}]},\n",
       "    'wife': {'term_freq': 2,\n",
       "     'tokens': [{'end_offset': 1190, 'position': 189, 'start_offset': 1186},\n",
       "      {'end_offset': 1703, 'position': 273, 'start_offset': 1699}]},\n",
       "    'woman': {'term_freq': 3,\n",
       "     'tokens': [{'end_offset': 83, 'position': 17, 'start_offset': 78},\n",
       "      {'end_offset': 103, 'position': 20, 'start_offset': 98},\n",
       "      {'end_offset': 241, 'position': 40, 'start_offset': 236}]},\n",
       "    'won': {'term_freq': 1,\n",
       "     'tokens': [{'end_offset': 1165, 'position': 185, 'start_offset': 1162}]},\n",
       "    \"won't\": {'term_freq': 1,\n",
       "     'tokens': [{'end_offset': 2318, 'position': 379, 'start_offset': 2313}]},\n",
       "    'wood': {'term_freq': 1,\n",
       "     'tokens': [{'end_offset': 609, 'position': 95, 'start_offset': 605}]},\n",
       "    'work': {'term_freq': 1,\n",
       "     'tokens': [{'end_offset': 1788, 'position': 289, 'start_offset': 1782}]},\n",
       "    'writer': {'term_freq': 1,\n",
       "     'tokens': [{'end_offset': 192, 'position': 32, 'start_offset': 186}]},\n",
       "    'year': {'term_freq': 2,\n",
       "     'tokens': [{'end_offset': 1534, 'position': 245, 'start_offset': 1529},\n",
       "      {'end_offset': 1575, 'position': 252, 'start_offset': 1570}]},\n",
       "    'york': {'term_freq': 1,\n",
       "     'tokens': [{'end_offset': 235, 'position': 39, 'start_offset': 231}]},\n",
       "    'zusselman': {'term_freq': 1,\n",
       "     'tokens': [{'end_offset': 1986,\n",
       "       'position': 324,\n",
       "       'start_offset': 1977}]}}}},\n",
       " 'took': 27}"
      ]
     },
     "execution_count": 5,
     "metadata": {},
     "output_type": "execute_result"
    }
   ],
   "source": [
    "tv_doc = es.termvectors(index=ELASTIC_INDEX, doc_type=ELASTIC_TYPE, id=\"AP890310-0090\")\n",
    "tv_doc"
   ]
  }
 ],
 "metadata": {
  "anaconda-cloud": {},
  "kernelspec": {
   "display_name": "Python [default]",
   "language": "python",
   "name": "python3"
  },
  "language_info": {
   "codemirror_mode": {
    "name": "ipython",
    "version": 3
   },
   "file_extension": ".py",
   "mimetype": "text/x-python",
   "name": "python",
   "nbconvert_exporter": "python",
   "pygments_lexer": "ipython3",
   "version": "3.5.2"
  }
 },
 "nbformat": 4,
 "nbformat_minor": 1
}
